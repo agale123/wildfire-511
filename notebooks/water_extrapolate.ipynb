{
 "cells": [
  {
   "cell_type": "code",
   "execution_count": 258,
   "metadata": {},
   "outputs": [],
   "source": [
    "import csv\n",
    "import pandas as pd\n",
    "import numpy as np\n",
    "import operator"
   ]
  },
  {
   "cell_type": "code",
   "execution_count": 259,
   "metadata": {},
   "outputs": [],
   "source": [
    "# Read water data\n",
    "df = pd.read_csv('../data/water_aggregated.csv', parse_dates=['date'])\n",
    "df.drop(df.columns[0], axis=1,inplace=True)"
   ]
  },
  {
   "cell_type": "code",
   "execution_count": 260,
   "metadata": {},
   "outputs": [
    {
     "data": {
      "text/html": [
       "<div>\n",
       "<style scoped>\n",
       "    .dataframe tbody tr th:only-of-type {\n",
       "        vertical-align: middle;\n",
       "    }\n",
       "\n",
       "    .dataframe tbody tr th {\n",
       "        vertical-align: top;\n",
       "    }\n",
       "\n",
       "    .dataframe thead th {\n",
       "        text-align: right;\n",
       "    }\n",
       "</style>\n",
       "<table border=\"1\" class=\"dataframe\">\n",
       "  <thead>\n",
       "    <tr style=\"text-align: right;\">\n",
       "      <th></th>\n",
       "      <th>date</th>\n",
       "      <th>county</th>\n",
       "      <th>cumulative_rain_inches</th>\n",
       "      <th>daily_rain_inches</th>\n",
       "    </tr>\n",
       "  </thead>\n",
       "  <tbody>\n",
       "    <tr>\n",
       "      <th>73279</th>\n",
       "      <td>2003-01-01</td>\n",
       "      <td>Alpine</td>\n",
       "      <td>37.14</td>\n",
       "      <td>0.88</td>\n",
       "    </tr>\n",
       "    <tr>\n",
       "      <th>73280</th>\n",
       "      <td>2003-01-01</td>\n",
       "      <td>Amador</td>\n",
       "      <td>26.27</td>\n",
       "      <td>0.12</td>\n",
       "    </tr>\n",
       "    <tr>\n",
       "      <th>73281</th>\n",
       "      <td>2003-01-01</td>\n",
       "      <td>Colusa</td>\n",
       "      <td>10.84</td>\n",
       "      <td>0.00</td>\n",
       "    </tr>\n",
       "    <tr>\n",
       "      <th>73282</th>\n",
       "      <td>2003-01-01</td>\n",
       "      <td>El Dorado</td>\n",
       "      <td>21.06</td>\n",
       "      <td>0.00</td>\n",
       "    </tr>\n",
       "    <tr>\n",
       "      <th>73283</th>\n",
       "      <td>2003-01-01</td>\n",
       "      <td>Fresno</td>\n",
       "      <td>16.93</td>\n",
       "      <td>0.00</td>\n",
       "    </tr>\n",
       "    <tr>\n",
       "      <th>...</th>\n",
       "      <td>...</td>\n",
       "      <td>...</td>\n",
       "      <td>...</td>\n",
       "      <td>...</td>\n",
       "    </tr>\n",
       "    <tr>\n",
       "      <th>378445</th>\n",
       "      <td>2020-11-10</td>\n",
       "      <td>Trinity</td>\n",
       "      <td>0.00</td>\n",
       "      <td>0.00</td>\n",
       "    </tr>\n",
       "    <tr>\n",
       "      <th>378446</th>\n",
       "      <td>2020-11-10</td>\n",
       "      <td>Tulare</td>\n",
       "      <td>0.79</td>\n",
       "      <td>0.00</td>\n",
       "    </tr>\n",
       "    <tr>\n",
       "      <th>378447</th>\n",
       "      <td>2020-11-10</td>\n",
       "      <td>Tuolumne</td>\n",
       "      <td>0.00</td>\n",
       "      <td>0.00</td>\n",
       "    </tr>\n",
       "    <tr>\n",
       "      <th>378448</th>\n",
       "      <td>2020-11-10</td>\n",
       "      <td>Ventura</td>\n",
       "      <td>0.00</td>\n",
       "      <td>0.00</td>\n",
       "    </tr>\n",
       "    <tr>\n",
       "      <th>378449</th>\n",
       "      <td>2020-11-10</td>\n",
       "      <td>Yuba</td>\n",
       "      <td>0.00</td>\n",
       "      <td>0.00</td>\n",
       "    </tr>\n",
       "  </tbody>\n",
       "</table>\n",
       "<p>305171 rows × 4 columns</p>\n",
       "</div>"
      ],
      "text/plain": [
       "             date     county  cumulative_rain_inches  daily_rain_inches\n",
       "73279  2003-01-01     Alpine                   37.14               0.88\n",
       "73280  2003-01-01     Amador                   26.27               0.12\n",
       "73281  2003-01-01     Colusa                   10.84               0.00\n",
       "73282  2003-01-01  El Dorado                   21.06               0.00\n",
       "73283  2003-01-01     Fresno                   16.93               0.00\n",
       "...           ...        ...                     ...                ...\n",
       "378445 2020-11-10    Trinity                    0.00               0.00\n",
       "378446 2020-11-10     Tulare                    0.79               0.00\n",
       "378447 2020-11-10   Tuolumne                    0.00               0.00\n",
       "378448 2020-11-10    Ventura                    0.00               0.00\n",
       "378449 2020-11-10       Yuba                    0.00               0.00\n",
       "\n",
       "[305171 rows x 4 columns]"
      ]
     },
     "execution_count": 260,
     "metadata": {},
     "output_type": "execute_result"
    }
   ],
   "source": [
    "df = df[(df['date']>=np.datetime64('2003-01-01'))]\n",
    "df"
   ]
  },
  {
   "cell_type": "code",
   "execution_count": 261,
   "metadata": {},
   "outputs": [],
   "source": [
    "# Filter to a specific year\n",
    "year = 2015\n",
    "df = df[df.date.dt.year == year]"
   ]
  },
  {
   "cell_type": "code",
   "execution_count": 262,
   "metadata": {},
   "outputs": [
    {
     "name": "stdout",
     "output_type": "stream",
     "text": [
      "['Alameda' 'Alpine' 'Amador' 'Butte' 'Calaveras' 'Colusa' 'Contra Costa'\n",
      " 'Del Norte' 'El Dorado' 'Fresno' 'Glenn' 'Humboldt' 'Imperial' 'Inyo'\n",
      " 'Kern' 'Kings' 'Lake' 'Lassen' 'Los Angeles' 'Madera' 'Marin' 'Mariposa'\n",
      " 'Mendocino' 'Merced' 'Modoc' 'Mono' 'Monterey' 'Napa' 'Nevada' 'Orange'\n",
      " 'Placer' 'Plumas' 'Riverside' 'Sacramento' 'San Benito' 'San Bernardino'\n",
      " 'San Diego' 'San Francisco' 'San Joaquin' 'San Luis Obispo' 'San Mateo'\n",
      " 'Santa Barbara' 'Santa Clara' 'Santa Cruz' 'Shasta' 'Sierra' 'Siskiyou'\n",
      " 'Solano' 'Sonoma' 'Stanislaus' 'Sutter' 'Tehama' 'Trinity' 'Tulare'\n",
      " 'Tuolumne' 'Ventura' 'Yolo' 'Yuba']\n",
      "58\n"
     ]
    }
   ],
   "source": [
    "# Find all counties\n",
    "df_counties = pd.read_csv('../data/county_lat_long.csv')\n",
    "counties = df_counties.County.unique()\n",
    "df_counties.set_index(['County'], inplace=True)\n",
    "print(counties)\n",
    "print(len(counties))"
   ]
  },
  {
   "cell_type": "code",
   "execution_count": 263,
   "metadata": {},
   "outputs": [
    {
     "name": "stdout",
     "output_type": "stream",
     "text": [
      "                      daily_rain_inches\n",
      "date       county                      \n",
      "2015-01-01 Alameda                  NaN\n",
      "           Alpine                   NaN\n",
      "           Amador                   NaN\n",
      "           Butte                    NaN\n",
      "           Calaveras                NaN\n",
      "...                                 ...\n",
      "2015-12-31 Tulare                   NaN\n",
      "           Tuolumne                 NaN\n",
      "           Ventura                  NaN\n",
      "           Yolo                     NaN\n",
      "           Yuba                     NaN\n",
      "\n",
      "[21170 rows x 1 columns]\n"
     ]
    }
   ],
   "source": [
    "# Generate dataframe with rows for every day/county\n",
    "all_days = pd.date_range(start=df.date.min(), end=df.date.max()).strftime('%Y-%m-%d')\n",
    "mux = pd.MultiIndex.from_product((all_days, counties, [np.nan]), names=['date', 'county', 'daily_rain_inches'])\n",
    "df_final = mux.to_frame(index=False)\n",
    "df_final.set_index(['date', 'county'], inplace=True)\n",
    "print(df_final)"
   ]
  },
  {
   "cell_type": "code",
   "execution_count": 264,
   "metadata": {},
   "outputs": [
    {
     "data": {
      "text/html": [
       "<div>\n",
       "<style scoped>\n",
       "    .dataframe tbody tr th:only-of-type {\n",
       "        vertical-align: middle;\n",
       "    }\n",
       "\n",
       "    .dataframe tbody tr th {\n",
       "        vertical-align: top;\n",
       "    }\n",
       "\n",
       "    .dataframe thead th {\n",
       "        text-align: right;\n",
       "    }\n",
       "</style>\n",
       "<table border=\"1\" class=\"dataframe\">\n",
       "  <thead>\n",
       "    <tr style=\"text-align: right;\">\n",
       "      <th></th>\n",
       "      <th></th>\n",
       "      <th>daily_rain_inches</th>\n",
       "    </tr>\n",
       "    <tr>\n",
       "      <th>date</th>\n",
       "      <th>county</th>\n",
       "      <th></th>\n",
       "    </tr>\n",
       "  </thead>\n",
       "  <tbody>\n",
       "    <tr>\n",
       "      <th rowspan=\"5\" valign=\"top\">2015-01-01</th>\n",
       "      <th>Alameda</th>\n",
       "      <td>0.00</td>\n",
       "    </tr>\n",
       "    <tr>\n",
       "      <th>Alpine</th>\n",
       "      <td>0.30</td>\n",
       "    </tr>\n",
       "    <tr>\n",
       "      <th>Amador</th>\n",
       "      <td>0.00</td>\n",
       "    </tr>\n",
       "    <tr>\n",
       "      <th>Butte</th>\n",
       "      <td>0.07</td>\n",
       "    </tr>\n",
       "    <tr>\n",
       "      <th>Calaveras</th>\n",
       "      <td>0.00</td>\n",
       "    </tr>\n",
       "  </tbody>\n",
       "</table>\n",
       "</div>"
      ],
      "text/plain": [
       "                      daily_rain_inches\n",
       "date       county                      \n",
       "2015-01-01 Alameda                 0.00\n",
       "           Alpine                  0.30\n",
       "           Amador                  0.00\n",
       "           Butte                   0.07\n",
       "           Calaveras               0.00"
      ]
     },
     "execution_count": 264,
     "metadata": {},
     "output_type": "execute_result"
    }
   ],
   "source": [
    "# Add known data to df_final\n",
    "for index, row in df.iterrows():\n",
    "    df_final.loc[row['date'].strftime('%Y-%m-%d'),row['county']] = row['daily_rain_inches']\n",
    "df_final.head()"
   ]
  },
  {
   "cell_type": "code",
   "execution_count": 265,
   "metadata": {},
   "outputs": [
    {
     "data": {
      "text/plain": [
       "daily_rain_inches    2920\n",
       "dtype: int64"
      ]
     },
     "execution_count": 265,
     "metadata": {},
     "output_type": "execute_result"
    }
   ],
   "source": [
    "# Count nan in daily_rain_inches\n",
    "df_final.isna().sum()"
   ]
  },
  {
   "cell_type": "code",
   "execution_count": null,
   "metadata": {},
   "outputs": [],
   "source": [
    "# For all rows will all NaN, find three nearest counties and average those values\n",
    "def find_nearest(c, d):\n",
    "    lat = df_counties.loc[c].Latitude\n",
    "    long = df_counties.loc[c].Longitude\n",
    "    distances = {}\n",
    "    for n in df_counties.query('County != @c').index.tolist():\n",
    "        if not df.loc[(df['date'] == d) & (df['county'] == n)].empty:\n",
    "            distances[n] = (df_counties.loc[n].Latitude - lat)**2+(df_counties.loc[n].Longitude - long)**2\n",
    "    dist_sorted = sorted(distances.items(), key=operator.itemgetter(1))[:3]\n",
    "    return list(map(lambda x: x[0], dist_sorted))\n",
    "       \n",
    "for date in all_days:\n",
    "    for county in df_counties.index:\n",
    "        if df.loc[(df['date'] == date) & (df['county'] == county)].empty:\n",
    "            nearby = find_nearest(county, date)\n",
    "            ave = 0\n",
    "            for near in nearby:\n",
    "                ave = ave + df_final.loc[date, near]\n",
    "            df_final.loc[date, county] = ave / 3\n",
    "print(df_final)"
   ]
  },
  {
   "cell_type": "code",
   "execution_count": null,
   "metadata": {},
   "outputs": [],
   "source": [
    "# Count nan in daily_rain_inches\n",
    "df_final.isna().sum()"
   ]
  },
  {
   "cell_type": "code",
   "execution_count": null,
   "metadata": {},
   "outputs": [],
   "source": [
    "# Write resulting data to csv\n",
    "df_final.to_csv('../data/water' + str(year) + '.csv')"
   ]
  },
  {
   "cell_type": "code",
   "execution_count": null,
   "metadata": {},
   "outputs": [],
   "source": []
  },
  {
   "cell_type": "code",
   "execution_count": null,
   "metadata": {},
   "outputs": [],
   "source": []
  }
 ],
 "metadata": {
  "kernelspec": {
   "display_name": "Python 3",
   "language": "python",
   "name": "python3"
  },
  "language_info": {
   "codemirror_mode": {
    "name": "ipython",
    "version": 3
   },
   "file_extension": ".py",
   "mimetype": "text/x-python",
   "name": "python",
   "nbconvert_exporter": "python",
   "pygments_lexer": "ipython3",
   "version": "3.8.2"
  }
 },
 "nbformat": 4,
 "nbformat_minor": 4
}
