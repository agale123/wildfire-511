{
 "cells": [
  {
   "cell_type": "code",
   "execution_count": 690,
   "metadata": {},
   "outputs": [],
   "source": [
    "import csv\n",
    "import pandas as pd\n",
    "import numpy as np\n",
    "import operator"
   ]
  },
  {
   "cell_type": "code",
   "execution_count": 691,
   "metadata": {},
   "outputs": [],
   "source": [
    "# Read water data\n",
    "df = pd.read_csv('../data/rain_final_fixed.csv', parse_dates=['date'])\n",
    "df.drop(df.columns[0], axis=1,inplace=True)\n",
    "df.drop(['year'], axis=1,inplace=True)"
   ]
  },
  {
   "cell_type": "code",
   "execution_count": 692,
   "metadata": {},
   "outputs": [
    {
     "data": {
      "text/html": [
       "<div>\n",
       "<style scoped>\n",
       "    .dataframe tbody tr th:only-of-type {\n",
       "        vertical-align: middle;\n",
       "    }\n",
       "\n",
       "    .dataframe tbody tr th {\n",
       "        vertical-align: top;\n",
       "    }\n",
       "\n",
       "    .dataframe thead th {\n",
       "        text-align: right;\n",
       "    }\n",
       "</style>\n",
       "<table border=\"1\" class=\"dataframe\">\n",
       "  <thead>\n",
       "    <tr style=\"text-align: right;\">\n",
       "      <th></th>\n",
       "      <th>county</th>\n",
       "      <th>date</th>\n",
       "      <th>dailyRain</th>\n",
       "    </tr>\n",
       "  </thead>\n",
       "  <tbody>\n",
       "    <tr>\n",
       "      <th>0</th>\n",
       "      <td>Alameda</td>\n",
       "      <td>2003-10-01</td>\n",
       "      <td>0.000000</td>\n",
       "    </tr>\n",
       "    <tr>\n",
       "      <th>1</th>\n",
       "      <td>Alameda</td>\n",
       "      <td>2003-10-02</td>\n",
       "      <td>0.000000</td>\n",
       "    </tr>\n",
       "    <tr>\n",
       "      <th>2</th>\n",
       "      <td>Alameda</td>\n",
       "      <td>2003-10-03</td>\n",
       "      <td>0.000000</td>\n",
       "    </tr>\n",
       "    <tr>\n",
       "      <th>3</th>\n",
       "      <td>Alameda</td>\n",
       "      <td>2003-10-04</td>\n",
       "      <td>0.000000</td>\n",
       "    </tr>\n",
       "    <tr>\n",
       "      <th>4</th>\n",
       "      <td>Alameda</td>\n",
       "      <td>2003-10-05</td>\n",
       "      <td>0.000000</td>\n",
       "    </tr>\n",
       "    <tr>\n",
       "      <th>...</th>\n",
       "      <td>...</td>\n",
       "      <td>...</td>\n",
       "      <td>...</td>\n",
       "    </tr>\n",
       "    <tr>\n",
       "      <th>290040</th>\n",
       "      <td>Yuba</td>\n",
       "      <td>2019-12-27</td>\n",
       "      <td>0.000000</td>\n",
       "    </tr>\n",
       "    <tr>\n",
       "      <th>290041</th>\n",
       "      <td>Yuba</td>\n",
       "      <td>2019-12-28</td>\n",
       "      <td>0.000000</td>\n",
       "    </tr>\n",
       "    <tr>\n",
       "      <th>290042</th>\n",
       "      <td>Yuba</td>\n",
       "      <td>2019-12-29</td>\n",
       "      <td>0.065000</td>\n",
       "    </tr>\n",
       "    <tr>\n",
       "      <th>290043</th>\n",
       "      <td>Yuba</td>\n",
       "      <td>2019-12-30</td>\n",
       "      <td>0.008333</td>\n",
       "    </tr>\n",
       "    <tr>\n",
       "      <th>290044</th>\n",
       "      <td>Yuba</td>\n",
       "      <td>2019-12-31</td>\n",
       "      <td>0.001667</td>\n",
       "    </tr>\n",
       "  </tbody>\n",
       "</table>\n",
       "<p>290045 rows × 3 columns</p>\n",
       "</div>"
      ],
      "text/plain": [
       "         county       date  dailyRain\n",
       "0       Alameda 2003-10-01   0.000000\n",
       "1       Alameda 2003-10-02   0.000000\n",
       "2       Alameda 2003-10-03   0.000000\n",
       "3       Alameda 2003-10-04   0.000000\n",
       "4       Alameda 2003-10-05   0.000000\n",
       "...         ...        ...        ...\n",
       "290040     Yuba 2019-12-27   0.000000\n",
       "290041     Yuba 2019-12-28   0.000000\n",
       "290042     Yuba 2019-12-29   0.065000\n",
       "290043     Yuba 2019-12-30   0.008333\n",
       "290044     Yuba 2019-12-31   0.001667\n",
       "\n",
       "[290045 rows x 3 columns]"
      ]
     },
     "execution_count": 692,
     "metadata": {},
     "output_type": "execute_result"
    }
   ],
   "source": [
    "df = df[(df['date']>=np.datetime64('2003-01-01'))]\n",
    "df"
   ]
  },
  {
   "cell_type": "code",
   "execution_count": 693,
   "metadata": {},
   "outputs": [],
   "source": [
    "# Filter to a specific year\n",
    "year = 2019\n",
    "df = df[df.date.dt.year == year]"
   ]
  },
  {
   "cell_type": "code",
   "execution_count": 694,
   "metadata": {},
   "outputs": [
    {
     "name": "stdout",
     "output_type": "stream",
     "text": [
      "['Alameda' 'Alpine' 'Amador' 'Butte' 'Calaveras' 'Colusa' 'Contra Costa'\n",
      " 'Del Norte' 'El Dorado' 'Fresno' 'Glenn' 'Humboldt' 'Imperial' 'Inyo'\n",
      " 'Kern' 'Kings' 'Lake' 'Lassen' 'Los Angeles' 'Madera' 'Marin' 'Mariposa'\n",
      " 'Mendocino' 'Merced' 'Modoc' 'Mono' 'Monterey' 'Napa' 'Nevada' 'Orange'\n",
      " 'Placer' 'Plumas' 'Riverside' 'Sacramento' 'San Benito' 'San Bernardino'\n",
      " 'San Diego' 'San Francisco' 'San Joaquin' 'San Luis Obispo' 'San Mateo'\n",
      " 'Santa Barbara' 'Santa Clara' 'Santa Cruz' 'Shasta' 'Sierra' 'Siskiyou'\n",
      " 'Solano' 'Sonoma' 'Stanislaus' 'Sutter' 'Tehama' 'Trinity' 'Tulare'\n",
      " 'Tuolumne' 'Ventura' 'Yolo' 'Yuba']\n",
      "58\n"
     ]
    }
   ],
   "source": [
    "# Find all counties\n",
    "df_counties = pd.read_csv('../data/county_lat_long.csv')\n",
    "counties = df_counties.County.unique()\n",
    "df_counties.set_index(['County'], inplace=True)\n",
    "print(counties)\n",
    "print(len(counties))"
   ]
  },
  {
   "cell_type": "code",
   "execution_count": 695,
   "metadata": {},
   "outputs": [
    {
     "name": "stdout",
     "output_type": "stream",
     "text": [
      "                      dailyRain\n",
      "date       county              \n",
      "2019-01-01 Alameda          NaN\n",
      "           Alpine           NaN\n",
      "           Amador           NaN\n",
      "           Butte            NaN\n",
      "           Calaveras        NaN\n",
      "...                         ...\n",
      "2019-12-31 Tulare           NaN\n",
      "           Tuolumne         NaN\n",
      "           Ventura          NaN\n",
      "           Yolo             NaN\n",
      "           Yuba             NaN\n",
      "\n",
      "[21170 rows x 1 columns]\n"
     ]
    }
   ],
   "source": [
    "# Generate dataframe with rows for every day/county\n",
    "all_days = pd.date_range(start=df.date.min(), end=df.date.max()).strftime('%Y-%m-%d')\n",
    "mux = pd.MultiIndex.from_product((all_days, counties, [np.nan]), names=['date', 'county', 'dailyRain'])\n",
    "df_final = mux.to_frame(index=False)\n",
    "df_final.set_index(['date', 'county'], inplace=True)\n",
    "print(df_final)"
   ]
  },
  {
   "cell_type": "code",
   "execution_count": 696,
   "metadata": {},
   "outputs": [
    {
     "data": {
      "text/html": [
       "<div>\n",
       "<style scoped>\n",
       "    .dataframe tbody tr th:only-of-type {\n",
       "        vertical-align: middle;\n",
       "    }\n",
       "\n",
       "    .dataframe tbody tr th {\n",
       "        vertical-align: top;\n",
       "    }\n",
       "\n",
       "    .dataframe thead th {\n",
       "        text-align: right;\n",
       "    }\n",
       "</style>\n",
       "<table border=\"1\" class=\"dataframe\">\n",
       "  <thead>\n",
       "    <tr style=\"text-align: right;\">\n",
       "      <th></th>\n",
       "      <th></th>\n",
       "      <th>dailyRain</th>\n",
       "    </tr>\n",
       "    <tr>\n",
       "      <th>date</th>\n",
       "      <th>county</th>\n",
       "      <th></th>\n",
       "    </tr>\n",
       "  </thead>\n",
       "  <tbody>\n",
       "    <tr>\n",
       "      <th rowspan=\"5\" valign=\"top\">2019-01-01</th>\n",
       "      <th>Alameda</th>\n",
       "      <td>0.000000</td>\n",
       "    </tr>\n",
       "    <tr>\n",
       "      <th>Alpine</th>\n",
       "      <td>0.225000</td>\n",
       "    </tr>\n",
       "    <tr>\n",
       "      <th>Amador</th>\n",
       "      <td>0.000000</td>\n",
       "    </tr>\n",
       "    <tr>\n",
       "      <th>Butte</th>\n",
       "      <td>0.000000</td>\n",
       "    </tr>\n",
       "    <tr>\n",
       "      <th>Calaveras</th>\n",
       "      <td>0.008333</td>\n",
       "    </tr>\n",
       "  </tbody>\n",
       "</table>\n",
       "</div>"
      ],
      "text/plain": [
       "                      dailyRain\n",
       "date       county              \n",
       "2019-01-01 Alameda     0.000000\n",
       "           Alpine      0.225000\n",
       "           Amador      0.000000\n",
       "           Butte       0.000000\n",
       "           Calaveras   0.008333"
      ]
     },
     "execution_count": 696,
     "metadata": {},
     "output_type": "execute_result"
    }
   ],
   "source": [
    "# Add known data to df_final\n",
    "for index, row in df.iterrows():\n",
    "    df_final.loc[row['date'].strftime('%Y-%m-%d'),row['county']] = row['dailyRain']\n",
    "df_final.head()"
   ]
  },
  {
   "cell_type": "code",
   "execution_count": 697,
   "metadata": {},
   "outputs": [
    {
     "data": {
      "text/plain": [
       "dailyRain    3650\n",
       "dtype: int64"
      ]
     },
     "execution_count": 697,
     "metadata": {},
     "output_type": "execute_result"
    }
   ],
   "source": [
    "# Count nan in daily_rain_inches\n",
    "df_final.isna().sum()"
   ]
  },
  {
   "cell_type": "code",
   "execution_count": 698,
   "metadata": {},
   "outputs": [
    {
     "name": "stdout",
     "output_type": "stream",
     "text": [
      "                      dailyRain\n",
      "date       county              \n",
      "2019-01-01 Alameda     0.000000\n",
      "           Alpine      0.225000\n",
      "           Amador      0.000000\n",
      "           Butte       0.000000\n",
      "           Calaveras   0.008333\n",
      "...                         ...\n",
      "2019-12-31 Tulare      0.004118\n",
      "           Tuolumne    0.008571\n",
      "           Ventura     0.000000\n",
      "           Yolo        0.000000\n",
      "           Yuba        0.001667\n",
      "\n",
      "[21170 rows x 1 columns]\n"
     ]
    }
   ],
   "source": [
    "# For all rows will all NaN, find three nearest counties and average those values\n",
    "def find_nearest(c, d):\n",
    "    lat = df_counties.loc[c].Latitude\n",
    "    long = df_counties.loc[c].Longitude\n",
    "    distances = {}\n",
    "    for n in df_counties.query('County != @c').index.tolist():\n",
    "        if not df.loc[(df['date'] == d) & (df['county'] == n)].empty:\n",
    "            distances[n] = (df_counties.loc[n].Latitude - lat)**2+(df_counties.loc[n].Longitude - long)**2\n",
    "    dist_sorted = sorted(distances.items(), key=operator.itemgetter(1))[:3]\n",
    "    return list(map(lambda x: x[0], dist_sorted))\n",
    "       \n",
    "for date in all_days:\n",
    "    for county in df_counties.index:\n",
    "        if df.loc[(df['date'] == date) & (df['county'] == county)].empty:\n",
    "            nearby = find_nearest(county, date)\n",
    "            ave = 0\n",
    "            for near in nearby:\n",
    "                ave = ave + df_final.loc[date, near]\n",
    "            df_final.loc[date, county] = ave / 3\n",
    "print(df_final)"
   ]
  },
  {
   "cell_type": "code",
   "execution_count": 699,
   "metadata": {},
   "outputs": [
    {
     "data": {
      "text/plain": [
       "dailyRain    0\n",
       "dtype: int64"
      ]
     },
     "execution_count": 699,
     "metadata": {},
     "output_type": "execute_result"
    }
   ],
   "source": [
    "# Count nan in daily_rain_inches\n",
    "df_final.isna().sum()"
   ]
  },
  {
   "cell_type": "code",
   "execution_count": 700,
   "metadata": {},
   "outputs": [],
   "source": [
    "# Write resulting data to csv\n",
    "df_final.to_csv('../data/water' + str(year) + '.csv')"
   ]
  },
  {
   "cell_type": "code",
   "execution_count": null,
   "metadata": {},
   "outputs": [],
   "source": []
  },
  {
   "cell_type": "code",
   "execution_count": null,
   "metadata": {},
   "outputs": [],
   "source": []
  }
 ],
 "metadata": {
  "kernelspec": {
   "display_name": "Python 3",
   "language": "python",
   "name": "python3"
  },
  "language_info": {
   "codemirror_mode": {
    "name": "ipython",
    "version": 3
   },
   "file_extension": ".py",
   "mimetype": "text/x-python",
   "name": "python",
   "nbconvert_exporter": "python",
   "pygments_lexer": "ipython3",
   "version": "3.8.2"
  }
 },
 "nbformat": 4,
 "nbformat_minor": 4
}
