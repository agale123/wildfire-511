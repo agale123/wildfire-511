{
 "cells": [
  {
   "cell_type": "code",
   "execution_count": 813,
   "metadata": {},
   "outputs": [],
   "source": [
    "import csv\n",
    "import pandas as pd\n",
    "import numpy as np\n",
    "import operator"
   ]
  },
  {
   "cell_type": "code",
   "execution_count": 814,
   "metadata": {},
   "outputs": [],
   "source": [
    "# Read airquality data\n",
    "df = pd.read_csv('../data/airquality_aggregated.csv', parse_dates=['date'])"
   ]
  },
  {
   "cell_type": "code",
   "execution_count": 815,
   "metadata": {},
   "outputs": [],
   "source": [
    "# Filter to a specific year\n",
    "year = 2019\n",
    "df = df[df.date.dt.year == year]"
   ]
  },
  {
   "cell_type": "code",
   "execution_count": 816,
   "metadata": {},
   "outputs": [
    {
     "data": {
      "text/html": [
       "<div>\n",
       "<style scoped>\n",
       "    .dataframe tbody tr th:only-of-type {\n",
       "        vertical-align: middle;\n",
       "    }\n",
       "\n",
       "    .dataframe tbody tr th {\n",
       "        vertical-align: top;\n",
       "    }\n",
       "\n",
       "    .dataframe thead th {\n",
       "        text-align: right;\n",
       "    }\n",
       "</style>\n",
       "<table border=\"1\" class=\"dataframe\">\n",
       "  <thead>\n",
       "    <tr style=\"text-align: right;\">\n",
       "      <th></th>\n",
       "      <th>date</th>\n",
       "      <th>county</th>\n",
       "      <th>latitude</th>\n",
       "      <th>longitude</th>\n",
       "      <th>measure</th>\n",
       "    </tr>\n",
       "  </thead>\n",
       "  <tbody>\n",
       "    <tr>\n",
       "      <th>163538</th>\n",
       "      <td>2019-01-01</td>\n",
       "      <td>Alameda</td>\n",
       "      <td>37.767498</td>\n",
       "      <td>-122.117606</td>\n",
       "      <td>4.642476</td>\n",
       "    </tr>\n",
       "    <tr>\n",
       "      <th>163539</th>\n",
       "      <td>2019-01-01</td>\n",
       "      <td>Butte</td>\n",
       "      <td>39.761680</td>\n",
       "      <td>-121.840470</td>\n",
       "      <td>13.500000</td>\n",
       "    </tr>\n",
       "    <tr>\n",
       "      <th>163540</th>\n",
       "      <td>2019-01-01</td>\n",
       "      <td>Calaveras</td>\n",
       "      <td>38.201850</td>\n",
       "      <td>-120.680277</td>\n",
       "      <td>17.903333</td>\n",
       "    </tr>\n",
       "    <tr>\n",
       "      <th>163541</th>\n",
       "      <td>2019-01-01</td>\n",
       "      <td>Contra Costa</td>\n",
       "      <td>37.948206</td>\n",
       "      <td>-122.191482</td>\n",
       "      <td>3.716140</td>\n",
       "    </tr>\n",
       "    <tr>\n",
       "      <th>163542</th>\n",
       "      <td>2019-01-01</td>\n",
       "      <td>Fresno</td>\n",
       "      <td>36.805813</td>\n",
       "      <td>-119.842293</td>\n",
       "      <td>34.574722</td>\n",
       "    </tr>\n",
       "  </tbody>\n",
       "</table>\n",
       "</div>"
      ],
      "text/plain": [
       "             date        county   latitude   longitude    measure\n",
       "163538 2019-01-01       Alameda  37.767498 -122.117606   4.642476\n",
       "163539 2019-01-01         Butte  39.761680 -121.840470  13.500000\n",
       "163540 2019-01-01     Calaveras  38.201850 -120.680277  17.903333\n",
       "163541 2019-01-01  Contra Costa  37.948206 -122.191482   3.716140\n",
       "163542 2019-01-01        Fresno  36.805813 -119.842293  34.574722"
      ]
     },
     "execution_count": 816,
     "metadata": {},
     "output_type": "execute_result"
    }
   ],
   "source": [
    "df.head()"
   ]
  },
  {
   "cell_type": "code",
   "execution_count": 817,
   "metadata": {},
   "outputs": [
    {
     "name": "stdout",
     "output_type": "stream",
     "text": [
      "['Alameda' 'Alpine' 'Amador' 'Butte' 'Calaveras' 'Colusa' 'Contra Costa'\n",
      " 'Del Norte' 'El Dorado' 'Fresno' 'Glenn' 'Humboldt' 'Imperial' 'Inyo'\n",
      " 'Kern' 'Kings' 'Lake' 'Lassen' 'Los Angeles' 'Madera' 'Marin' 'Mariposa'\n",
      " 'Mendocino' 'Merced' 'Modoc' 'Mono' 'Monterey' 'Napa' 'Nevada' 'Orange'\n",
      " 'Placer' 'Plumas' 'Riverside' 'Sacramento' 'San Benito' 'San Bernardino'\n",
      " 'San Diego' 'San Francisco' 'San Joaquin' 'San Luis Obispo' 'San Mateo'\n",
      " 'Santa Barbara' 'Santa Clara' 'Santa Cruz' 'Shasta' 'Sierra' 'Siskiyou'\n",
      " 'Solano' 'Sonoma' 'Stanislaus' 'Sutter' 'Tehama' 'Trinity' 'Tulare'\n",
      " 'Tuolumne' 'Ventura' 'Yolo' 'Yuba']\n",
      "58\n"
     ]
    }
   ],
   "source": [
    "# Find all counties\n",
    "df_counties = pd.read_csv('../data/county_lat_long.csv')\n",
    "counties = df_counties.County.unique()\n",
    "df_counties.set_index(['County'], inplace=True)\n",
    "print(counties)\n",
    "print(len(counties))"
   ]
  },
  {
   "cell_type": "code",
   "execution_count": 818,
   "metadata": {},
   "outputs": [
    {
     "name": "stdout",
     "output_type": "stream",
     "text": [
      "    county  count\n",
      "11    Lake     60\n",
      "36  Shasta     53\n",
      "45    Yolo     53\n"
     ]
    }
   ],
   "source": [
    "# Calculate which counties don't have 90 days of data\n",
    "df_sparse_counties = df.groupby('county')['measure'].count().rename('count').reset_index().query('count < 90')\n",
    "print(df_sparse_counties)"
   ]
  },
  {
   "cell_type": "code",
   "execution_count": 819,
   "metadata": {
    "scrolled": true
   },
   "outputs": [
    {
     "name": "stdout",
     "output_type": "stream",
     "text": [
      "             date        county   latitude   longitude    measure\n",
      "163538 2019-01-01       Alameda  37.767498 -122.117606   4.642476\n",
      "163539 2019-01-01         Butte  39.761680 -121.840470  13.500000\n",
      "163540 2019-01-01     Calaveras  38.201850 -120.680277  17.903333\n",
      "163541 2019-01-01  Contra Costa  37.948206 -122.191482   3.716140\n",
      "163542 2019-01-01        Fresno  36.805813 -119.842293  34.574722\n",
      "...           ...           ...        ...         ...        ...\n",
      "178650 2019-12-31        Sonoma  38.403765 -122.818294   8.105000\n",
      "178651 2019-12-31    Stanislaus  37.565241 -120.915110  20.161667\n",
      "178652 2019-12-31        Sutter  39.138773 -121.618549  18.100000\n",
      "178653 2019-12-31        Tehama  40.170930 -122.255560   9.411667\n",
      "178654 2019-12-31       Ventura  34.311255 -118.903723   1.509722\n",
      "\n",
      "[15117 rows x 5 columns]\n"
     ]
    }
   ],
   "source": [
    "# Replace the aqi values of sparse counties with nan\n",
    "for index, row in df_sparse_counties.iterrows():\n",
    "    df.loc[df['county'] == row['county'], 'measure'] = np.nan\n",
    "print(df)"
   ]
  },
  {
   "cell_type": "code",
   "execution_count": 820,
   "metadata": {},
   "outputs": [
    {
     "name": "stdout",
     "output_type": "stream",
     "text": [
      "                      measure\n",
      "date       county            \n",
      "2019-01-01 Alameda        NaN\n",
      "           Alpine         NaN\n",
      "           Amador         NaN\n",
      "           Butte          NaN\n",
      "           Calaveras      NaN\n",
      "...                       ...\n",
      "2019-12-31 Tulare         NaN\n",
      "           Tuolumne       NaN\n",
      "           Ventura        NaN\n",
      "           Yolo           NaN\n",
      "           Yuba           NaN\n",
      "\n",
      "[21170 rows x 1 columns]\n"
     ]
    }
   ],
   "source": [
    "# Generate dataframe with rows for every day/county\n",
    "all_days = pd.date_range(start=df.date.min(), end=df.date.max()).strftime('%Y-%m-%d')\n",
    "mux = pd.MultiIndex.from_product((all_days, counties, [np.nan]), names=['date', 'county', 'measure'])\n",
    "df_final = mux.to_frame(index=False)\n",
    "df_final.set_index(['date', 'county'], inplace=True)\n",
    "print(df_final)"
   ]
  },
  {
   "cell_type": "code",
   "execution_count": 821,
   "metadata": {},
   "outputs": [
    {
     "data": {
      "text/html": [
       "<div>\n",
       "<style scoped>\n",
       "    .dataframe tbody tr th:only-of-type {\n",
       "        vertical-align: middle;\n",
       "    }\n",
       "\n",
       "    .dataframe tbody tr th {\n",
       "        vertical-align: top;\n",
       "    }\n",
       "\n",
       "    .dataframe thead th {\n",
       "        text-align: right;\n",
       "    }\n",
       "</style>\n",
       "<table border=\"1\" class=\"dataframe\">\n",
       "  <thead>\n",
       "    <tr style=\"text-align: right;\">\n",
       "      <th></th>\n",
       "      <th></th>\n",
       "      <th>measure</th>\n",
       "    </tr>\n",
       "    <tr>\n",
       "      <th>date</th>\n",
       "      <th>county</th>\n",
       "      <th></th>\n",
       "    </tr>\n",
       "  </thead>\n",
       "  <tbody>\n",
       "    <tr>\n",
       "      <th rowspan=\"5\" valign=\"top\">2019-01-01</th>\n",
       "      <th>Alameda</th>\n",
       "      <td>4.642476</td>\n",
       "    </tr>\n",
       "    <tr>\n",
       "      <th>Alpine</th>\n",
       "      <td>NaN</td>\n",
       "    </tr>\n",
       "    <tr>\n",
       "      <th>Amador</th>\n",
       "      <td>NaN</td>\n",
       "    </tr>\n",
       "    <tr>\n",
       "      <th>Butte</th>\n",
       "      <td>13.500000</td>\n",
       "    </tr>\n",
       "    <tr>\n",
       "      <th>Calaveras</th>\n",
       "      <td>17.903333</td>\n",
       "    </tr>\n",
       "  </tbody>\n",
       "</table>\n",
       "</div>"
      ],
      "text/plain": [
       "                        measure\n",
       "date       county              \n",
       "2019-01-01 Alameda     4.642476\n",
       "           Alpine           NaN\n",
       "           Amador           NaN\n",
       "           Butte      13.500000\n",
       "           Calaveras  17.903333"
      ]
     },
     "execution_count": 821,
     "metadata": {},
     "output_type": "execute_result"
    }
   ],
   "source": [
    "# Add known data to df_final\n",
    "for index, row in df.iterrows():\n",
    "    df_final.loc[row['date'].strftime('%Y-%m-%d'),row['county']] = row['measure']\n",
    "df_final.head()"
   ]
  },
  {
   "cell_type": "code",
   "execution_count": 822,
   "metadata": {},
   "outputs": [
    {
     "name": "stdout",
     "output_type": "stream",
     "text": [
      "1        Alpine\n",
      "2        Amador\n",
      "7     Del Norte\n",
      "8     El Dorado\n",
      "10        Glenn\n",
      "16         Lake\n",
      "17       Lassen\n",
      "21     Mariposa\n",
      "24        Modoc\n",
      "44       Shasta\n",
      "45       Sierra\n",
      "52      Trinity\n",
      "54     Tuolumne\n",
      "56         Yolo\n",
      "57         Yuba\n",
      "Name: county, dtype: object\n"
     ]
    }
   ],
   "source": [
    "# Calculate counties with missing values\n",
    "df_missing_counties = df_final.groupby('county').count().reset_index().query('measure == 0').county\n",
    "print(df_missing_counties)"
   ]
  },
  {
   "cell_type": "code",
   "execution_count": 823,
   "metadata": {},
   "outputs": [],
   "source": [
    "# For all rows with some, but not all data being NaN, extrapolate values based on nearest dates"
   ]
  },
  {
   "cell_type": "code",
   "execution_count": 824,
   "metadata": {},
   "outputs": [],
   "source": [
    "## Set data for the min date\n",
    "missing_min_date = df_final.loc[df.date.min().strftime('%Y-%m-%d')].query('measure.isnull()').index.tolist()\n",
    "for county in missing_min_date:\n",
    "    # Only look at counties with some data\n",
    "    if not county in list(df_missing_counties):\n",
    "        # Find the earliest date with aqi values and set that value for the min date\n",
    "        min_date_aqi = df_final.query('county == @county and not measure.isnull()').iloc[0].measure\n",
    "        df_final.loc[df.date.min().strftime('%Y-%m-%d'), county] = min_date_aqi\n",
    "\n",
    "## Set data for the max date\n",
    "missing_max_date = df_final.loc[df.date.max().strftime('%Y-%m-%d')].query('measure.isnull()').index.tolist()\n",
    "for county in missing_max_date:\n",
    "    # Only look at counties with some data\n",
    "    if not county in list(df_missing_counties):\n",
    "        # Find the earliest date with aqi values and set that value for the max date\n",
    "        max_date_aqi = df_final.query('county == @county and not measure.isnull()').iloc[-1].measure\n",
    "        df_final.loc[df.date.max().strftime('%Y-%m-%d'), county] = max_date_aqi"
   ]
  },
  {
   "cell_type": "code",
   "execution_count": 825,
   "metadata": {},
   "outputs": [],
   "source": [
    "## Extrapolate date values in between\n",
    "for county in counties:\n",
    "    # Only look at counties with some data\n",
    "    if not county in list(df_missing_counties):\n",
    "        for index, row in df_final.query('county == @county').iterrows():\n",
    "            if np.isnan(row.measure):\n",
    "                before = df_final.query('county == @county and date < @index[0]  and not measure.isnull()').iloc[-1]\n",
    "                after = df_final.query('county == @county and date > @index[0]  and not measure.isnull()').iloc[0]\n",
    "\n",
    "                before_date = datetime.strptime(before.name[0], '%Y-%m-%d')\n",
    "                missing_date = datetime.strptime(index[0], '%Y-%m-%d')\n",
    "                after_date = datetime.strptime(after.name[0], '%Y-%m-%d')\n",
    "\n",
    "                before_diff = (missing_date-before_date).days\n",
    "                after_diff = (after_date-missing_date).days\n",
    "                average = before.measure * (1-before_diff/(before_diff+after_diff)) + after.measure * (1-after_diff/(before_diff+after_diff))\n",
    "\n",
    "                df_final.loc[index[0], county] = average\n",
    "            \n",
    "    "
   ]
  },
  {
   "cell_type": "code",
   "execution_count": 826,
   "metadata": {},
   "outputs": [
    {
     "name": "stdout",
     "output_type": "stream",
     "text": [
      "                        measure\n",
      "date       county              \n",
      "2019-01-01 Alameda     4.642476\n",
      "           Alpine     11.660417\n",
      "           Amador      8.819064\n",
      "           Butte      13.500000\n",
      "           Calaveras  17.903333\n",
      "...                         ...\n",
      "2019-12-31 Tulare     10.700000\n",
      "           Tuolumne   20.178056\n",
      "           Ventura     1.509722\n",
      "           Yolo       13.786957\n",
      "           Yuba       13.527099\n",
      "\n",
      "[21170 rows x 1 columns]\n"
     ]
    }
   ],
   "source": [
    "# For all rows will all NaN, find two nearest counties and average those values\n",
    "def find_nearest(c):\n",
    "    lat = df_counties.loc[c].Latitude\n",
    "    long = df_counties.loc[c].Longitude\n",
    "    distances = {}\n",
    "    for n in df_counties.query('County != @c').index.tolist():\n",
    "        if not n in list(df_missing_counties):\n",
    "            distances[n] = (df_counties.loc[n].Latitude - lat)**2+(df_counties.loc[n].Longitude - long)**2\n",
    "    dist_sorted = sorted(distances.items(), key=operator.itemgetter(1))[:3]\n",
    "    return list(map(lambda x: x[0], dist_sorted))\n",
    "    \n",
    "for county in list(df_missing_counties):\n",
    "    nearby = find_nearest(county)\n",
    "    for date in all_days:\n",
    "        ave = 0\n",
    "        for near in nearby:\n",
    "            ave = ave + df_final.loc[date, near]\n",
    "        df_final.loc[date, county] = ave / 3\n",
    "print(df_final)"
   ]
  },
  {
   "cell_type": "code",
   "execution_count": 827,
   "metadata": {},
   "outputs": [],
   "source": [
    "# Write resulting data to csv\n",
    "df_final.to_csv('../data/' + str(year) + '.csv')"
   ]
  },
  {
   "cell_type": "code",
   "execution_count": null,
   "metadata": {},
   "outputs": [],
   "source": []
  }
 ],
 "metadata": {
  "kernelspec": {
   "display_name": "Python 3",
   "language": "python",
   "name": "python3"
  },
  "language_info": {
   "codemirror_mode": {
    "name": "ipython",
    "version": 3
   },
   "file_extension": ".py",
   "mimetype": "text/x-python",
   "name": "python",
   "nbconvert_exporter": "python",
   "pygments_lexer": "ipython3",
   "version": "3.8.2"
  }
 },
 "nbformat": 4,
 "nbformat_minor": 4
}
